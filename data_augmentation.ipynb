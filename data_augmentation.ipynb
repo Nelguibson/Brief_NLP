{
 "cells": [
  {
   "attachments": {},
   "cell_type": "markdown",
   "metadata": {},
   "source": [
    "On a scrapper le film 28 semaine plus tard car il a une proportion d'avis negatif suffisant pour le rééquilibrage de notre data du notebook sBrief_NLP."
   ]
  },
  {
   "attachments": {},
   "cell_type": "markdown",
   "metadata": {},
   "source": [
    "IMPORTATION DE PANDAS ET LECTURE DU FICHIER CSV"
   ]
  },
  {
   "cell_type": "code",
   "execution_count": 1,
   "metadata": {},
   "outputs": [],
   "source": [
    "import pandas as pd"
   ]
  },
  {
   "cell_type": "code",
   "execution_count": 2,
   "metadata": {},
   "outputs": [
    {
     "data": {
      "text/html": [
       "<div>\n",
       "<style scoped>\n",
       "    .dataframe tbody tr th:only-of-type {\n",
       "        vertical-align: middle;\n",
       "    }\n",
       "\n",
       "    .dataframe tbody tr th {\n",
       "        vertical-align: top;\n",
       "    }\n",
       "\n",
       "    .dataframe thead th {\n",
       "        text-align: right;\n",
       "    }\n",
       "</style>\n",
       "<table border=\"1\" class=\"dataframe\">\n",
       "  <thead>\n",
       "    <tr style=\"text-align: right;\">\n",
       "      <th></th>\n",
       "      <th>Note</th>\n",
       "      <th>Commentaire</th>\n",
       "    </tr>\n",
       "  </thead>\n",
       "  <tbody>\n",
       "    <tr>\n",
       "      <th>0</th>\n",
       "      <td>1,0</td>\n",
       "      <td>1 étoile pour quelques scènes.Pour le reste, l...</td>\n",
       "    </tr>\n",
       "    <tr>\n",
       "      <th>1</th>\n",
       "      <td>2,5</td>\n",
       "      <td>On voit que Danny Boyle n'est plus aux command...</td>\n",
       "    </tr>\n",
       "    <tr>\n",
       "      <th>2</th>\n",
       "      <td>4,0</td>\n",
       "      <td>Une suite largement à la hauteur de l'excellen...</td>\n",
       "    </tr>\n",
       "    <tr>\n",
       "      <th>3</th>\n",
       "      <td>4,0</td>\n",
       "      <td>Suite souvent huée mais finalement supérieur à...</td>\n",
       "    </tr>\n",
       "    <tr>\n",
       "      <th>4</th>\n",
       "      <td>4,5</td>\n",
       "      <td>Suite de la bombe de Danny Boyle, 28 jours plu...</td>\n",
       "    </tr>\n",
       "  </tbody>\n",
       "</table>\n",
       "</div>"
      ],
      "text/plain": [
       "  Note                                        Commentaire\n",
       "0  1,0  1 étoile pour quelques scènes.Pour le reste, l...\n",
       "1  2,5  On voit que Danny Boyle n'est plus aux command...\n",
       "2  4,0  Une suite largement à la hauteur de l'excellen...\n",
       "3  4,0  Suite souvent huée mais finalement supérieur à...\n",
       "4  4,5  Suite de la bombe de Danny Boyle, 28 jours plu..."
      ]
     },
     "execution_count": 2,
     "metadata": {},
     "output_type": "execute_result"
    }
   ],
   "source": [
    "data = pd.read_csv(\"/home/leguibs/Brief_commentaire/csv/28_semaine_brief.csv\")\n",
    "data.head()"
   ]
  },
  {
   "cell_type": "code",
   "execution_count": 3,
   "metadata": {},
   "outputs": [
    {
     "data": {
      "text/plain": [
       "0    1.0\n",
       "1    2.5\n",
       "2    4.0\n",
       "3    4.0\n",
       "4    4.5\n",
       "Name: Note, dtype: object"
      ]
     },
     "execution_count": 3,
     "metadata": {},
     "output_type": "execute_result"
    }
   ],
   "source": [
    "data.Note = data[\"Note\"].str.replace(\",\", \".\")\n",
    "data.Note.head()"
   ]
  },
  {
   "cell_type": "code",
   "execution_count": 4,
   "metadata": {},
   "outputs": [
    {
     "name": "stdout",
     "output_type": "stream",
     "text": [
      "0       1.0\n",
      "1       2.5\n",
      "2       4.0\n",
      "3       4.0\n",
      "4       4.5\n",
      "       ... \n",
      "1323    5.0\n",
      "1324    1.0\n",
      "1325    1.0\n",
      "1326    5.0\n",
      "1327    1.5\n",
      "Name: Note, Length: 1328, dtype: float64\n"
     ]
    }
   ],
   "source": [
    "data.Note = pd.to_numeric(data.Note)\n",
    "print(data.Note)"
   ]
  },
  {
   "cell_type": "code",
   "execution_count": 5,
   "metadata": {},
   "outputs": [],
   "source": [
    "data.loc[(data.Note < 3,\"Note\" )]= 0\n",
    "data.loc[(data.Note > 3,\"Note\" )]= 1"
   ]
  },
  {
   "cell_type": "code",
   "execution_count": 6,
   "metadata": {},
   "outputs": [],
   "source": [
    "data.Note = pd.to_numeric(data.Note, downcast='integer')"
   ]
  },
  {
   "cell_type": "code",
   "execution_count": 7,
   "metadata": {},
   "outputs": [
    {
     "data": {
      "text/plain": [
       "0       0\n",
       "1       0\n",
       "8       0\n",
       "9       0\n",
       "10      0\n",
       "       ..\n",
       "1314    0\n",
       "1317    0\n",
       "1324    0\n",
       "1325    0\n",
       "1327    0\n",
       "Name: Note, Length: 379, dtype: int8"
      ]
     },
     "execution_count": 7,
     "metadata": {},
     "output_type": "execute_result"
    }
   ],
   "source": [
    "data.Note[data.Note == 0]"
   ]
  },
  {
   "cell_type": "code",
   "execution_count": 8,
   "metadata": {},
   "outputs": [
    {
     "name": "stdout",
     "output_type": "stream",
     "text": [
      "0     0\n",
      "1     0\n",
      "2     1\n",
      "3     1\n",
      "4     1\n",
      "5     1\n",
      "6     1\n",
      "7     1\n",
      "8     0\n",
      "9     0\n",
      "10    0\n",
      "11    1\n",
      "12    1\n",
      "13    0\n",
      "14    1\n",
      "15    1\n",
      "16    0\n",
      "17    1\n",
      "18    1\n",
      "19    1\n",
      "Name: Note, dtype: int8\n"
     ]
    }
   ],
   "source": [
    "print(data.Note[:20])"
   ]
  },
  {
   "attachments": {},
   "cell_type": "markdown",
   "metadata": {},
   "source": [
    "Meme principe que sur le fichier sBrief_NLP on a transformer la colonne \"Note\" en entier pour ensuite l'encoder en 1 et 0 pour l'integrer en supplément à notre data de base."
   ]
  },
  {
   "cell_type": "code",
   "execution_count": 9,
   "metadata": {},
   "outputs": [],
   "source": [
    "data_note_moins_trois = data[data.Note & data.Note == 0]"
   ]
  },
  {
   "cell_type": "code",
   "execution_count": 10,
   "metadata": {},
   "outputs": [],
   "source": [
    "data.Note = pd.to_numeric(data.Note, downcast='integer')"
   ]
  },
  {
   "attachments": {},
   "cell_type": "markdown",
   "metadata": {},
   "source": [
    "IMPORTATION DES MODULES POUR L'OBSERVATION GRAPHIQUE DE NOS DONNEES"
   ]
  },
  {
   "cell_type": "code",
   "execution_count": 11,
   "metadata": {},
   "outputs": [
    {
     "data": {
      "text/plain": [
       "<Figure size 640x480 with 0 Axes>"
      ]
     },
     "metadata": {},
     "output_type": "display_data"
    },
    {
     "data": {
      "image/png": "[encoded data removed]",
      "text/plain": [
       "<Figure size 500x500 with 1 Axes>"
      ]
     },
     "metadata": {},
     "output_type": "display_data"
    }
   ],
   "source": [
    "import matplotlib.pyplot as plt\n",
    "import seaborn as sns\n",
    "plt.figure()\n",
    "sns.displot(data = data, x= data.Note)\n",
    "plt.show()"
   ]
  },
  {
   "attachments": {},
   "cell_type": "markdown",
   "metadata": {},
   "source": [
    "TRANSFORMATION DES DONNEES DE NOTRE VARIABLE EN DATAFRAME"
   ]
  },
  {
   "cell_type": "code",
   "execution_count": 12,
   "metadata": {},
   "outputs": [
    {
     "data": {
      "text/html": [
       "<div>\n",
       "<style scoped>\n",
       "    .dataframe tbody tr th:only-of-type {\n",
       "        vertical-align: middle;\n",
       "    }\n",
       "\n",
       "    .dataframe tbody tr th {\n",
       "        vertical-align: top;\n",
       "    }\n",
       "\n",
       "    .dataframe thead th {\n",
       "        text-align: right;\n",
       "    }\n",
       "</style>\n",
       "<table border=\"1\" class=\"dataframe\">\n",
       "  <thead>\n",
       "    <tr style=\"text-align: right;\">\n",
       "      <th></th>\n",
       "      <th>Note</th>\n",
       "      <th>Commentaire</th>\n",
       "    </tr>\n",
       "  </thead>\n",
       "  <tbody>\n",
       "    <tr>\n",
       "      <th>0</th>\n",
       "      <td>0</td>\n",
       "      <td>1 étoile pour quelques scènes.Pour le reste, l...</td>\n",
       "    </tr>\n",
       "    <tr>\n",
       "      <th>1</th>\n",
       "      <td>0</td>\n",
       "      <td>On voit que Danny Boyle n'est plus aux command...</td>\n",
       "    </tr>\n",
       "    <tr>\n",
       "      <th>8</th>\n",
       "      <td>0</td>\n",
       "      <td>Sérieusement ????2 gamins qui arrivent à s'éch...</td>\n",
       "    </tr>\n",
       "    <tr>\n",
       "      <th>9</th>\n",
       "      <td>0</td>\n",
       "      <td>Mais c'est quoi ce truc sensé être un film d'h...</td>\n",
       "    </tr>\n",
       "    <tr>\n",
       "      <th>10</th>\n",
       "      <td>0</td>\n",
       "      <td>Ce 28 semaines plus tard est une suite très pa...</td>\n",
       "    </tr>\n",
       "  </tbody>\n",
       "</table>\n",
       "</div>"
      ],
      "text/plain": [
       "    Note                                        Commentaire\n",
       "0      0  1 étoile pour quelques scènes.Pour le reste, l...\n",
       "1      0  On voit que Danny Boyle n'est plus aux command...\n",
       "8      0  Sérieusement ????2 gamins qui arrivent à s'éch...\n",
       "9      0  Mais c'est quoi ce truc sensé être un film d'h...\n",
       "10     0  Ce 28 semaines plus tard est une suite très pa..."
      ]
     },
     "execution_count": 12,
     "metadata": {},
     "output_type": "execute_result"
    }
   ],
   "source": [
    "data_2 = pd.DataFrame(data_note_moins_trois)\n",
    "data_note_moins_trois.head()"
   ]
  },
  {
   "attachments": {},
   "cell_type": "markdown",
   "metadata": {},
   "source": [
    "ENREGISTREMENT DU DATAFRAME (data_2) EN FICHIER CSV"
   ]
  },
  {
   "cell_type": "code",
   "execution_count": 144,
   "metadata": {},
   "outputs": [],
   "source": [
    "data_2.to_csv(\"/home/leguibs/Brief_commentaire/csv/jours.csv\", index= False) # Index = false empeche un rajout d'index supplementaire\n",
    "                                                                # qui nous aurait dérangé lors de l'assamblage des 2 datasets"
   ]
  },
  {
   "attachments": {},
   "cell_type": "markdown",
   "metadata": {},
   "source": [
    "LECTURE DES FICHIERS (jours.csv & annuaire_cine_brief.csv) ET CONCATENATION DE NOS 2 DATASETS"
   ]
  },
  {
   "cell_type": "code",
   "execution_count": 145,
   "metadata": {},
   "outputs": [
    {
     "data": {
      "text/html": [
       "<div>\n",
       "<style scoped>\n",
       "    .dataframe tbody tr th:only-of-type {\n",
       "        vertical-align: middle;\n",
       "    }\n",
       "\n",
       "    .dataframe tbody tr th {\n",
       "        vertical-align: top;\n",
       "    }\n",
       "\n",
       "    .dataframe thead th {\n",
       "        text-align: right;\n",
       "    }\n",
       "</style>\n",
       "<table border=\"1\" class=\"dataframe\">\n",
       "  <thead>\n",
       "    <tr style=\"text-align: right;\">\n",
       "      <th></th>\n",
       "      <th>Note</th>\n",
       "      <th>Commentaire</th>\n",
       "    </tr>\n",
       "  </thead>\n",
       "  <tbody>\n",
       "    <tr>\n",
       "      <th>0</th>\n",
       "      <td>0</td>\n",
       "      <td>1 étoile pour quelques scènes.Pour le reste, l...</td>\n",
       "    </tr>\n",
       "    <tr>\n",
       "      <th>1</th>\n",
       "      <td>0</td>\n",
       "      <td>On voit que Danny Boyle n'est plus aux command...</td>\n",
       "    </tr>\n",
       "    <tr>\n",
       "      <th>2</th>\n",
       "      <td>1</td>\n",
       "      <td>Une suite largement à la hauteur de l'excellen...</td>\n",
       "    </tr>\n",
       "    <tr>\n",
       "      <th>3</th>\n",
       "      <td>1</td>\n",
       "      <td>Suite souvent huée mais finalement supérieur à...</td>\n",
       "    </tr>\n",
       "    <tr>\n",
       "      <th>4</th>\n",
       "      <td>1</td>\n",
       "      <td>Suite de la bombe de Danny Boyle, 28 jours plu...</td>\n",
       "    </tr>\n",
       "  </tbody>\n",
       "</table>\n",
       "</div>"
      ],
      "text/plain": [
       "   Note                                        Commentaire\n",
       "0     0  1 étoile pour quelques scènes.Pour le reste, l...\n",
       "1     0  On voit que Danny Boyle n'est plus aux command...\n",
       "2     1  Une suite largement à la hauteur de l'excellen...\n",
       "3     1  Suite souvent huée mais finalement supérieur à...\n",
       "4     1  Suite de la bombe de Danny Boyle, 28 jours plu..."
      ]
     },
     "execution_count": 145,
     "metadata": {},
     "output_type": "execute_result"
    }
   ],
   "source": [
    "data_3 = pd.read_csv(\"/home/leguibs/Brief_commentaire/csv/jours.csv\")\n",
    "data.head()"
   ]
  },
  {
   "cell_type": "code",
   "execution_count": 146,
   "metadata": {},
   "outputs": [],
   "source": [
    "data_bonne = pd.read_csv(\"/home/leguibs/Brief_commentaire/csv/annuaire_cine_brief.csv\")"
   ]
  },
  {
   "cell_type": "code",
   "execution_count": 147,
   "metadata": {},
   "outputs": [],
   "source": [
    "result = pd.concat([data_bonne, data_3], ignore_index=True)"
   ]
  },
  {
   "attachments": {},
   "cell_type": "markdown",
   "metadata": {},
   "source": [
    "concatenation de nos 2 fichiers"
   ]
  },
  {
   "attachments": {},
   "cell_type": "markdown",
   "metadata": {},
   "source": [
    "EXPORTATION DU FICHIER CONCATENER EN CSV"
   ]
  },
  {
   "cell_type": "code",
   "execution_count": 148,
   "metadata": {},
   "outputs": [],
   "source": [
    "result.to_csv('result.csv', index=False)"
   ]
  },
  {
   "attachments": {},
   "cell_type": "markdown",
   "metadata": {},
   "source": [
    "A présent on a fichier csv avec notre data augmentation et on auras quasiment la même proportion d'avis positifs et négatifs. Il y avais cependant 42 avis négatifs supplémentaire que je me suis permis d'enlever à la mains dans le fichier result.csv.\n",
    "Etant données qu'on a rajouter seulement des commentaires négatifs à la fin de notre fichier on a enlever les 42 de dernieres lignes du fichier."
   ]
  }
 ],
 "metadata": {
  "kernelspec": {
   "display_name": "environement",
   "language": "python",
   "name": "python3"
  },
  "language_info": {
   "codemirror_mode": {
    "name": "ipython",
    "version": 3
   },
   "file_extension": ".py",
   "mimetype": "text/x-python",
   "name": "python",
   "nbconvert_exporter": "python",
   "pygments_lexer": "ipython3",
   "version": "3.8.10 (default, Nov 14 2022, 12:59:47) \n[GCC 9.4.0]"
  },
  "orig_nbformat": 4,
  "vscode": {
   "interpreter": {
    "hash": "88ff8c66926a04c80f71db7ddb3620fdd2561fb24a9617de865db87d5d5ce18f"
   }
  }
 },
 "nbformat": 4,
 "nbformat_minor": 2
}
